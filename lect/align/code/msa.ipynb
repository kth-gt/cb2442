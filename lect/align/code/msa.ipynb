{
 "cells": [
  {
   "cell_type": "markdown",
   "metadata": {},
   "source": [
    "## Progressive multiple sequence alignment\n",
    "Here we will implement one type of multiple sequence alignment, the Progressive multiple sequence alignment.\n",
    "The code can be either run on your local computer or run by clicking the batch below:\n",
    "\n",
    "[![Binder](https://mybinder.org/badge_logo.svg)](https://mybinder.org/v2/gh/kth-gt/cb2442/main?labpath=lect%2Falign%2Fcode%2Fmsa.ipynb)\n",
    "\n",
    "We build our algorithm on top of the previous code for pairwise alignment, the Needleman-Wunsch algorithm. We hence begin with copying the code from previous example. However, we make edits so that we are pairwise aligning lists of sequences, instead of single sequences against single sequences.\n",
    "\n"
   ]
  },
  {
   "cell_type": "markdown",
   "metadata": {},
   "source": [
    "First we need to modify our score function so that it can take multiple sequences in account. Here we elect to score thee sequences acording to their average PAM250 score. To do so, we generalize the concept of a \"sequences\" to be a list of one or more sequences."
   ]
  },
  {
   "cell_type": "code",
   "execution_count": 1,
   "metadata": {},
   "outputs": [],
   "source": [
    "gap_penalty = -1.0\n",
    "\n",
    "# Calculate the match score from one set of sequences to another set of sequences at a given alignment position\n",
    "def match_score_pam(seqencesA,posA, sequencesB,posB):\n",
    "    score, n = 0.,0\n",
    "    for seqA in seqencesA:        # Iterate over all the sequences in the list sequncesA\n",
    "        for seqB in sequencesB:   # Iterate over all the sequences in the list sequncesB\n",
    "            score += PAM250[seqA[posA]][seqB[posB]]\n",
    "            n += 1\n",
    "    return score/n\n",
    "\n",
    "PAM250 = {\n",
    "'A': {'A': 2,  'C': -2, 'D':  0, 'E': 0, 'F': -3, 'G':  1, 'H': -1, 'I': -1, 'K': -1, 'L': -2, 'M': -1, 'N':  0, 'P':  1, 'Q':  0, 'R': -2, 'S':  1, 'T':  1, 'V':  0, 'W': -6, 'Y': -3, '-':0},\n",
    "'C': {'A': -2, 'C': 12, 'D': -5, 'E':-5, 'F': -4, 'G': -3, 'H': -3, 'I': -2, 'K': -5, 'L': -6, 'M': -5, 'N': -4, 'P': -3, 'Q': -5, 'R': -4, 'S':  0, 'T': -2, 'V': -2, 'W': -8, 'Y':  0, '-':0},\n",
    "'D': {'A': 0,  'C': -5, 'D':  4, 'E': 3, 'F': -6, 'G':  1, 'H':  1, 'I': -2, 'K':  0, 'L': -4, 'M': -3, 'N':  2, 'P': -1, 'Q':  2, 'R': -1, 'S':  0, 'T':  0, 'V': -2, 'W': -7, 'Y': -4, '-':0},\n",
    "'E': {'A': 0,  'C': -5, 'D':  3, 'E': 4, 'F': -5, 'G':  0, 'H':  1, 'I': -2, 'K':  0, 'L': -3, 'M': -2, 'N':  1, 'P': -1, 'Q':  2, 'R': -1, 'S':  0, 'T':  0, 'V': -2, 'W': -7, 'Y': -4, '-':0},\n",
    "'F': {'A': -3, 'C': -4, 'D': -6, 'E':-5, 'F':  9, 'G': -5, 'H': -2, 'I':  1, 'K': -5, 'L':  2, 'M':  0, 'N': -3, 'P': -5, 'Q': -5, 'R': -4, 'S': -3, 'T': -3, 'V': -1, 'W':  0, 'Y':  7, '-':0},\n",
    "'G': {'A': 1,  'C': -3, 'D':  1, 'E': 0, 'F': -5, 'G':  5, 'H': -2, 'I': -3, 'K': -2, 'L': -4, 'M': -3, 'N':  0, 'P':  0, 'Q': -1, 'R': -3, 'S':  1, 'T':  0, 'V': -1, 'W': -7, 'Y': -5, '-':0},\n",
    "'H': {'A': -1, 'C': -3, 'D':  1, 'E': 1, 'F': -2, 'G': -2, 'H':  6, 'I': -2, 'K':  0, 'L': -2, 'M': -2, 'N':  2, 'P':  0, 'Q':  3, 'R':  2, 'S': -1, 'T': -1, 'V': -2, 'W': -3, 'Y':  0, '-':0},\n",
    "'I': {'A': -1, 'C': -2, 'D': -2, 'E':-2, 'F':  1, 'G': -3, 'H': -2, 'I':  5, 'K': -2, 'L':  2, 'M':  2, 'N': -2, 'P': -2, 'Q': -2, 'R': -2, 'S': -1, 'T':  0, 'V':  4, 'W': -5, 'Y': -1, '-':0},\n",
    "'K': {'A': -1, 'C': -5, 'D':  0, 'E': 0, 'F': -5, 'G': -2, 'H':  0, 'I': -2, 'K':  5, 'L': -3, 'M':  0, 'N':  1, 'P': -1, 'Q':  1, 'R':  3, 'S':  0, 'T':  0, 'V': -2, 'W': -3, 'Y': -4, '-':0},\n",
    "'L': {'A': -2, 'C': -6, 'D': -4, 'E':-3, 'F':  2, 'G': -4, 'H': -2, 'I':  2, 'K': -3, 'L':  6, 'M':  4, 'N': -3, 'P': -3, 'Q': -2, 'R': -3, 'S': -3, 'T': -2, 'V':  2, 'W': -2, 'Y': -1, '-':0},\n",
    "'M': {'A': -1, 'C': -5, 'D': -3, 'E':-2, 'F':  0, 'G': -3, 'H': -2, 'I':  2, 'K':  0, 'L':  4, 'M':  6, 'N': -2, 'P': -2, 'Q': -1, 'R':  0, 'S': -2, 'T': -1, 'V':  2, 'W': -4, 'Y': -2, '-':0},\n",
    "'N': {'A': 0,  'C': -4, 'D':  2, 'E': 1, 'F': -3, 'G':  0, 'H':  2, 'I': -2, 'K':  1, 'L': -3, 'M': -2, 'N':  2, 'P':  0, 'Q':  1, 'R':  0, 'S':  1, 'T':  0, 'V': -2, 'W': -4, 'Y': -2, '-':0},\n",
    "'P': {'A': 1,  'C': -3, 'D': -1, 'E':-1, 'F': -5, 'G':  0, 'H':  0, 'I': -2, 'K': -1, 'L': -3, 'M': -2, 'N':  0, 'P':  6, 'Q':  0, 'R':  0, 'S':  1, 'T':  0, 'V': -1, 'W': -6, 'Y': -5, '-':0},\n",
    "'Q': {'A': 0,  'C': -5, 'D':  2, 'E': 2, 'F': -5, 'G': -1, 'H':  3, 'I': -2, 'K':  1, 'L': -2, 'M': -1, 'N':  1, 'P':  0, 'Q':  4, 'R':  1, 'S': -1, 'T': -1, 'V': -2, 'W': -5, 'Y': -4, '-':0},\n",
    "'R': {'A': -2, 'C': -4, 'D': -1, 'E':-1, 'F': -4, 'G': -3, 'H':  2, 'I': -2, 'K':  3, 'L': -3, 'M':  0, 'N':  0, 'P':  0, 'Q':  1, 'R':  6, 'S':  0, 'T': -1, 'V': -2, 'W':  2, 'Y': -4, '-':0},\n",
    "'S': {'A': 1,  'C':  0, 'D':  0, 'E': 0, 'F': -3, 'G':  1, 'H': -1, 'I': -1, 'K':  0, 'L': -3, 'M': -2, 'N':  1, 'P':  1, 'Q': -1, 'R':  0, 'S':  2, 'T':  1, 'V': -1, 'W': -2, 'Y': -3, '-':0},\n",
    "'T': {'A': 1,  'C': -2, 'D':  0, 'E': 0, 'F': -3, 'G':  0, 'H': -1, 'I':  0, 'K':  0, 'L': -2, 'M': -1, 'N':  0, 'P':  0, 'Q': -1, 'R': -1, 'S':  1, 'T':  3, 'V':  0, 'W': -5, 'Y': -3, '-':0},\n",
    "'V': {'A': 0,  'C': -2, 'D': -2, 'E':-2, 'F': -1, 'G': -1, 'H': -2, 'I':  4, 'K': -2, 'L':  2, 'M':  2, 'N': -2, 'P': -1, 'Q': -2, 'R': -2, 'S': -1, 'T':  0, 'V':  4, 'W': -6, 'Y': -2, '-':0},\n",
    "'W': {'A': -6, 'C': -8, 'D': -7, 'E':-7, 'F':  0, 'G': -7, 'H': -3, 'I': -5, 'K': -3, 'L': -2, 'M': -4, 'N': -4, 'P': -6, 'Q': -5, 'R':  2, 'S': -2, 'T': -5, 'V': -6, 'W': 17, 'Y':  0, '-':0},\n",
    "'Y': {'A': -3, 'C':  0, 'D': -4, 'E':-4, 'F':  7, 'G': -5, 'H':  0, 'I': -1, 'K': -4, 'L': -1, 'M': -2, 'N': -2, 'P': -5, 'Q': -4, 'R': -4, 'S': -3, 'T': -3, 'V': -2, 'W':  0, 'Y': 10, '-':0},\n",
    "'-': {'A': 0,  'C': 0, 'D': 0, 'E':0, 'F': 0, 'G': 0, 'H': 0, 'I':  0, 'K': 0, 'L':  0, 'M':  0, 'N': 0, 'P': 0, 'Q': 0, 'R': 0, 'S': 0, 'T':  0, 'V':  0, 'W': 0, 'Y': 0 ,'-':0}}\n"
   ]
  },
  {
   "cell_type": "markdown",
   "metadata": {},
   "source": [
    "Similarly, we modify our code for tracing the dynamic programing matrix, so that it can handle multiple sequences."
   ]
  },
  {
   "cell_type": "code",
   "execution_count": 2,
   "metadata": {},
   "outputs": [],
   "source": [
    "def format_msa(seqA,seqB,S,trace):\n",
    "    outA,outB = [\"\" for s in seqA],[\"\" for s in seqB]\n",
    "    i,j = np.unravel_index(S.argmax(),S.shape)\n",
    "    while i>0 or j>0:\n",
    "        di,dj = trace[i,j]\n",
    "        i += int(di)\n",
    "        j += int(dj)\n",
    "        if di == 0:\n",
    "            for ix in range(len(seqA)):\n",
    "                outA[ix] = \"-\" + outA[ix]\n",
    "        else:\n",
    "            for ix in range(len(seqA)):\n",
    "                outA[ix] = seqA[ix][i] + outA[ix]\n",
    "        if dj == 0:\n",
    "            for ix in range(len(seqB)):\n",
    "                outB[ix] = \"-\" + outB[ix]\n",
    "        else:\n",
    "            for ix in range(len(seqB)):\n",
    "                outB[ix] = seqB[ix][j] + outB[ix]\n",
    "    return outA,outB"
   ]
  },
  {
   "cell_type": "markdown",
   "metadata": {},
   "source": [
    "Next, we copy the code for the local pairwise alignments (Smith-Waterman) from previous lectures"
   ]
  },
  {
   "cell_type": "code",
   "execution_count": 3,
   "metadata": {},
   "outputs": [],
   "source": [
    "import argparse\n",
    "import numpy as np\n",
    "\n",
    "\n",
    "def align(seqA, seqB, score = match_score_pam):\n",
    "    # Initiating variables\n",
    "    m, n = len(seqA[0])+1, len(seqB[0])+1\n",
    "    S = np.zeros((m,n))\n",
    "    trace = np.zeros((m,n,2))\n",
    "    # Set up dynamic programming matrices\n",
    "    S[0,0] = 0.\n",
    "    trace[0,0,:] = (0.,0.)\n",
    "    for i in range(1,m):\n",
    "        S[i,0] = 0.\n",
    "        trace[i,0,:] = (0.,0.)\n",
    "    for j in range(1,n):\n",
    "        S[0,j] = 0.\n",
    "        trace[0,j,:] = (0.,0.)\n",
    "    # Fill the rest of the dynamic programming matrices\n",
    "    for i in range(1,m):\n",
    "        for j in range(1,n):\n",
    "            match = S[i-1][j-1] + score(seqA,i-1,seqB,j-1)\n",
    "            delete = S[i-1][j] + gap_penalty\n",
    "            insert = S[i][j-1] + gap_penalty\n",
    "            S[i,j] = max(match, delete, insert,0.)\n",
    "            if match >= max(delete,insert,0.):\n",
    "                trace[i,j,:] = (-1.,-1.)\n",
    "            elif delete >= max(insert,0.):\n",
    "                trace[i,j,:] = (-1.,0.)\n",
    "            elif insert >= 0.:\n",
    "                trace[i,j,:] = (0.,-1.)\n",
    "            else:\n",
    "                trace[i,j,:] = (0.,0.)\n",
    "    return S[m-1,n-1],format_msa(seqA, seqB, S, trace)\n"
   ]
  },
  {
   "cell_type": "markdown",
   "metadata": {},
   "source": [
    "So far we just modified our pairwise alignment code. Lets turn to the code building our progressive alignment.\n"
   ]
  },
  {
   "cell_type": "code",
   "execution_count": 4,
   "metadata": {},
   "outputs": [],
   "source": [
    "def align_all(seqs, debug = False):\n",
    "    sequences = [[s] for s in seqs]\n",
    "    while len(sequences)>1:\n",
    "        k = len(sequences)\n",
    "        scores = np.zeros((k-1,k))\n",
    "        # Align all sequences against each other\n",
    "        for a in range(k-1):\n",
    "            for b in range(a+1,k):\n",
    "                score,alignment = align(sequences[a],sequences[b])\n",
    "                scores[a,b-1] = score\n",
    "        # Find the pair of sequences with highest alignment score\n",
    "        i,j = np.unravel_index(scores.argmax(),scores.shape)\n",
    "        j += 1\n",
    "        # Realign the sequences (we only stored the scores, not the alignment)\n",
    "        score,(a1,a2) = align(sequences[i],sequences[j])\n",
    "        # Replace sequence i with the pairwise alignment of i and j \n",
    "        sequences[i] = a1 + a2\n",
    "        del sequences[j]\n",
    "        if debug:\n",
    "            print(\"DEBUG: The algorithm aligned\")\n",
    "            for s in a1:\n",
    "                print (s)\n",
    "            print(\"to\")\n",
    "            for s in a2:\n",
    "                print(s)\n",
    "            print()\n",
    "    return sequences[0]\n"
   ]
  },
  {
   "cell_type": "markdown",
   "metadata": {},
   "source": [
    "Lets try this code for a couple of peptides."
   ]
  },
  {
   "cell_type": "code",
   "execution_count": 5,
   "metadata": {},
   "outputs": [
    {
     "ename": "TypeError",
     "evalue": "format_msa() missing 1 required positional argument: 'trace'",
     "output_type": "error",
     "traceback": [
      "\u001b[0;31m---------------------------------------------------------------------------\u001b[0m",
      "\u001b[0;31mTypeError\u001b[0m                                 Traceback (most recent call last)",
      "\u001b[1;32m/home/lukask/git/cb2442/lect/align/code/msa.ipynb Cell 11\u001b[0m in \u001b[0;36m1\n\u001b[0;32m----> <a href='vscode-notebook-cell:/home/lukask/git/cb2442/lect/align/code/msa.ipynb#X13sZmlsZQ%3D%3D?line=0'>1</a>\u001b[0m seqs \u001b[39m=\u001b[39m align_all([\u001b[39m\"\u001b[39;49m\u001b[39mIAMAPEPTIDE\u001b[39;49m\u001b[39m\"\u001b[39;49m,\u001b[39m\"\u001b[39;49m\u001b[39mIAMPEPTIDE\u001b[39;49m\u001b[39m\"\u001b[39;49m,\u001b[39m\"\u001b[39;49m\u001b[39mIAMPEPPED\u001b[39;49m\u001b[39m\"\u001b[39;49m,\u001b[39m\"\u001b[39;49m\u001b[39mIAMAPARTED\u001b[39;49m\u001b[39m\"\u001b[39;49m],\u001b[39mTrue\u001b[39;49;00m)\n\u001b[1;32m      <a href='vscode-notebook-cell:/home/lukask/git/cb2442/lect/align/code/msa.ipynb#X13sZmlsZQ%3D%3D?line=1'>2</a>\u001b[0m \u001b[39mprint\u001b[39m(\u001b[39m\"\u001b[39m\u001b[39mFinal alignment:\u001b[39m\u001b[39m\"\u001b[39m)\n\u001b[1;32m      <a href='vscode-notebook-cell:/home/lukask/git/cb2442/lect/align/code/msa.ipynb#X13sZmlsZQ%3D%3D?line=2'>3</a>\u001b[0m \u001b[39mfor\u001b[39;00m s \u001b[39min\u001b[39;00m seqs:\n",
      "\u001b[1;32m/home/lukask/git/cb2442/lect/align/code/msa.ipynb Cell 11\u001b[0m in \u001b[0;36m9\n\u001b[1;32m      <a href='vscode-notebook-cell:/home/lukask/git/cb2442/lect/align/code/msa.ipynb#X13sZmlsZQ%3D%3D?line=6'>7</a>\u001b[0m \u001b[39mfor\u001b[39;00m a \u001b[39min\u001b[39;00m \u001b[39mrange\u001b[39m(k\u001b[39m-\u001b[39m\u001b[39m1\u001b[39m):\n\u001b[1;32m      <a href='vscode-notebook-cell:/home/lukask/git/cb2442/lect/align/code/msa.ipynb#X13sZmlsZQ%3D%3D?line=7'>8</a>\u001b[0m     \u001b[39mfor\u001b[39;00m b \u001b[39min\u001b[39;00m \u001b[39mrange\u001b[39m(a\u001b[39m+\u001b[39m\u001b[39m1\u001b[39m,k):\n\u001b[0;32m----> <a href='vscode-notebook-cell:/home/lukask/git/cb2442/lect/align/code/msa.ipynb#X13sZmlsZQ%3D%3D?line=8'>9</a>\u001b[0m         score,alignment \u001b[39m=\u001b[39m align(sequences[a],sequences[b])\n\u001b[1;32m     <a href='vscode-notebook-cell:/home/lukask/git/cb2442/lect/align/code/msa.ipynb#X13sZmlsZQ%3D%3D?line=9'>10</a>\u001b[0m         scores[a,b\u001b[39m-\u001b[39m\u001b[39m1\u001b[39m] \u001b[39m=\u001b[39m score\n\u001b[1;32m     <a href='vscode-notebook-cell:/home/lukask/git/cb2442/lect/align/code/msa.ipynb#X13sZmlsZQ%3D%3D?line=10'>11</a>\u001b[0m \u001b[39m# Find the pair of sequences with highest alignment score\u001b[39;00m\n",
      "\u001b[1;32m/home/lukask/git/cb2442/lect/align/code/msa.ipynb Cell 11\u001b[0m in \u001b[0;36m3\n\u001b[1;32m     <a href='vscode-notebook-cell:/home/lukask/git/cb2442/lect/align/code/msa.ipynb#X13sZmlsZQ%3D%3D?line=31'>32</a>\u001b[0m         \u001b[39melse\u001b[39;00m:\n\u001b[1;32m     <a href='vscode-notebook-cell:/home/lukask/git/cb2442/lect/align/code/msa.ipynb#X13sZmlsZQ%3D%3D?line=32'>33</a>\u001b[0m             trace[i,j,:] \u001b[39m=\u001b[39m (\u001b[39m0.\u001b[39m,\u001b[39m0.\u001b[39m)\n\u001b[0;32m---> <a href='vscode-notebook-cell:/home/lukask/git/cb2442/lect/align/code/msa.ipynb#X13sZmlsZQ%3D%3D?line=33'>34</a>\u001b[0m \u001b[39mreturn\u001b[39;00m S[m\u001b[39m-\u001b[39m\u001b[39m1\u001b[39m,n\u001b[39m-\u001b[39m\u001b[39m1\u001b[39m],format_msa(seqA,seqB,trace)\n",
      "\u001b[0;31mTypeError\u001b[0m: format_msa() missing 1 required positional argument: 'trace'"
     ]
    }
   ],
   "source": [
    "seqs = align_all([\"IAMAPEPTIDE\",\"IAMPEPTIDE\",\"IAMPEPPED\",\"IAMAPARTED\"],True)\n",
    "print(\"Final alignment:\")\n",
    "for s in seqs:\n",
    "    print (s)"
   ]
  },
  {
   "cell_type": "markdown",
   "metadata": {},
   "source": [
    "Lets try the strategy for something slightly more complex. Here is an alignment of Insulin precursors from Human, Macaque, Dog and Mouse"
   ]
  },
  {
   "cell_type": "code",
   "execution_count": null,
   "metadata": {},
   "outputs": [
    {
     "name": "stdout",
     "output_type": "stream",
     "text": [
      "DEBUG: The algorithm aligned\n",
      "MALWMRLLPLLALLALWGPDPAAAFVNQHLCGSHLVEALYLVCGERGFFYTPKTRREAED-LQVGQVELGGGPGAGSLQPLALEGSLQKRGIVEQCCTSICSLYQLENYCN\n",
      "to\n",
      "MALWMRLLPLLALLALWGPDPAPAFVNQHLCGSHLVEALYLVCGERGFFYTPKTRREAEDP-QVGQVELGGGPGAGSLQPLALEGSLQKRGIVEQCCTSICSLYQLENYCN\n",
      "\n",
      "DEBUG: The algorithm aligned\n",
      "MALWMRLLPLLALLALWGPDPAAAFVNQHLCGSHLVEALYLVCGERGFFYTPKTRREAED-LQV-GQVELGGGPGAGSLQPLALEGSLQKRGIVEQCCTSICSLYQLENYCN\n",
      "MALWMRLLPLLALLALWGPDPAPAFVNQHLCGSHLVEALYLVCGERGFFYTPKTRREAEDP-QV-GQVELGGGPGAGSLQPLALEGSLQKRGIVEQCCTSICSLYQLENYCN\n",
      "to\n",
      "MALWMRLLPLLALLALWAPAPTRAFVNQHLCGSHLVEALYLVCGERGFFYTPKARREVED-LQVR-DVELAGAPGEGGLQPLALEGALQKRGIVEQCCTSICSLYQLENYCN\n",
      "\n",
      "DEBUG: The algorithm aligned\n",
      "MALWM-RLLPLLALLALWGPDPAAAFVNQHLCGSHLVEALYLVCGERGFFYTPKTRREAED-LQV-GQVELGGGPGAGSLQPLALE-GSLQKRGIVEQCCTSICSLYQLENYCN\n",
      "MALWM-RLLPLLALLALWGPDPAPAFVNQHLCGSHLVEALYLVCGERGFFYTPKTRREAEDP-QV-GQVELGGGPGAGSLQPLALE-GSLQKRGIVEQCCTSICSLYQLENYCN\n",
      "MALWM-RLLPLLALLALWAPAPTRAFVNQHLCGSHLVEALYLVCGERGFFYTPKARREVED-LQVR-DVELAGAPGEGGLQPLALE-GALQKRGIVEQCCTSICSLYQLENYCN\n",
      "to\n",
      "MAL-LVHFLPLLALLALWEPKPTQAFVKQHLCGPHLVEALYLVCGERGFFYTPKSRREVEDP-QV-EQLELGGSPG-D-LQTLALEVAR-QKRGIVDQCCTSICSLYQLENYCN\n",
      "\n",
      "Final alignment:\n",
      "MALWM-RLLPLLALLALWGPDPAAAFVNQHLCGSHLVEALYLVCGERGFFYTPKTRREAED-LQV-GQVELGGGPGAGSLQPLALE-GSLQKRGIVEQCCTSICSLYQLENYCN\n",
      "MALWM-RLLPLLALLALWGPDPAPAFVNQHLCGSHLVEALYLVCGERGFFYTPKTRREAEDP-QV-GQVELGGGPGAGSLQPLALE-GSLQKRGIVEQCCTSICSLYQLENYCN\n",
      "MALWM-RLLPLLALLALWAPAPTRAFVNQHLCGSHLVEALYLVCGERGFFYTPKARREVED-LQVR-DVELAGAPGEGGLQPLALE-GALQKRGIVEQCCTSICSLYQLENYCN\n",
      "MAL-LVHFLPLLALLALWEPKPTQAFVKQHLCGPHLVEALYLVCGERGFFYTPKSRREVEDP-QV-EQLELGGSPG-D-LQTLALEVAR-QKRGIVDQCCTSICSLYQLENYCN\n"
     ]
    }
   ],
   "source": [
    "seqs = align_all([\"MALWMRLLPLLALLALWGPDPAAAFVNQHLCGSHLVEALYLVCGERGFFYTPKTRREAEDLQVGQVELGGGPGAGSLQPLALEGSLQKRGIVEQCCTSICSLYQLENYCN\",\n",
    "                  \"MALWMRLLPLLALLALWGPDPAPAFVNQHLCGSHLVEALYLVCGERGFFYTPKTRREAEDPQVGQVELGGGPGAGSLQPLALEGSLQKRGIVEQCCTSICSLYQLENYCN\",\n",
    "                  \"MALWMRLLPLLALLALWAPAPTRAFVNQHLCGSHLVEALYLVCGERGFFYTPKARREVEDLQVRDVELAGAPGEGGLQPLALEGALQKRGIVEQCCTSICSLYQLENYCN\",\n",
    "                  \"MALLVHFLPLLALLALWEPKPTQAFVKQHLCGPHLVEALYLVCGERGFFYTPKSRREVEDPQVEQLELGGSPGDLQTLALEVARQKRGIVDQCCTSICSLYQLENYCN\"],True)\n",
    "print(\"Final alignment:\")\n",
    "for s in seqs:\n",
    "    print(s)"
   ]
  },
  {
   "cell_type": "code",
   "execution_count": null,
   "metadata": {},
   "outputs": [],
   "source": []
  }
 ],
 "metadata": {
  "kernelspec": {
   "display_name": "Python 3",
   "language": "python",
   "name": "python3"
  },
  "language_info": {
   "codemirror_mode": {
    "name": "ipython",
    "version": 3
   },
   "file_extension": ".py",
   "mimetype": "text/x-python",
   "name": "python",
   "nbconvert_exporter": "python",
   "pygments_lexer": "ipython3",
   "version": "3.9.13"
  }
 },
 "nbformat": 4,
 "nbformat_minor": 2
}
