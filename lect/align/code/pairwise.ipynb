{
 "cells": [
  {
   "cell_type": "markdown",
   "metadata": {},
   "source": [
    "# Pairwise alignment methods\n",
    "\n",
    "You can execute this notebook through binder, by just clicking on the banner below,\n",
    "\n",
    "[![Binder](https://mybinder.org/badge_logo.svg)](https://mybinder.org/v2/gh/statisticalbiotechnology/bb2441/master?filepath=pairwise%2Fpairwise.ipynb)\n",
    "\n",
    "To facilitate the the reasoning in the subsequent cells, we first we define a couple of functions that we will need later, for formating and printing alignments. It is not important that you understand what these functions do, for now."
   ]
  },
  {
   "cell_type": "code",
   "execution_count": 1,
   "metadata": {},
   "outputs": [],
   "source": [
    "import numpy as np\n",
    "\n",
    "# Print 2 sequences on top of each other\n",
    "def print_alignment(seqA,seqB):\n",
    "    print(seqA)\n",
    "    print(seqB)\n",
    "\n",
    "# Print a dynamic programming score matrix\n",
    "# together with its sequences\n",
    "def print_dynamic(seqA,seqB,dpm):\n",
    "    seqA,seqB = \"-\" + seqA, \"-\" + seqB\n",
    "    m,n = len(seqA),len(seqB)\n",
    "    print('{:^5}'.format(\" \"), end=\"\"),\n",
    "    for j in range(n):\n",
    "        print('{:^5}'.format(seqB[j]), end=\"\")\n",
    "    print()\n",
    "    for i in range(m):\n",
    "        print ('{:^5}'.format(seqA[i]), end=\"\")\n",
    "        for j in range(n):\n",
    "            print ('{:5.1f}'.format(dpm[i,j]), end=\"\")\n",
    "        print()\n",
    "    print()\n",
    "\n",
    "# Format an alignment by inserting gaps in sequences\n",
    "def format_alignment(seqA,seqB,S,trace):\n",
    "    print(\"Best score: \" + str(S[-1,-1]))\n",
    "    outA,outB = \"\",\"\"\n",
    "    i,j = len(seqA),len(seqB)\n",
    "    while i>0 or j>0:\n",
    "        di,dj = trace[i,j]\n",
    "        i += int(di)\n",
    "        j += int(dj)\n",
    "        if di == 0:\n",
    "            outA = \"-\" + outA\n",
    "        else:\n",
    "            outA = seqA[i] + outA\n",
    "        if dj == 0:\n",
    "            outB = \"-\" + outB\n",
    "        else:\n",
    "            outB = seqB[j] + outB\n",
    "    return outA,outB"
   ]
  },
  {
   "cell_type": "markdown",
   "metadata": {},
   "source": [
    "## Scoring system for DNA sequences\n",
    "We setup the scoring system we need for the alignment of DNA sequences. Here we use a score system where gaps score -2 and miss matches are scored -1 and matches get a score of 3."
   ]
  },
  {
   "cell_type": "code",
   "execution_count": 2,
   "metadata": {},
   "outputs": [],
   "source": [
    "def gap_penalty():\n",
    "    return -2.0\n",
    "\n",
    "def match_score(letterA,letterB):\n",
    "    if letterA == '-' or letterB == '-':\n",
    "        return gap_penalty()\n",
    "    elif letterA == letterB:\n",
    "        return 3.0\n",
    "    else:\n",
    "        return -1.0\n"
   ]
  },
  {
   "cell_type": "markdown",
   "metadata": {},
   "source": [
    "## Global alignments by Needleman-Wunsch\n",
    "Here follows an implementation of the [Needleman-Wunsch](http://www.sciencedirect.com/science/article/pii/0022283670900574) pairwise alignment method. The algorithm is based on dynamic programming.\n",
    "\n",
    "We want to align two sequences $a=a_1,\\ldots,a_{M}$ and $b=b_1,\\ldots,b_{N}$. \n",
    "\n",
    "The dynamic programming matrix $S$ is initiated as:\n",
    "$$S_{i0}=g \\cdot i, \\forall i,$$\n",
    "$$S_{0j}=g \\cdot j, \\forall j$$\n"
   ]
  },
  {
   "cell_type": "code",
   "execution_count": 3,
   "metadata": {},
   "outputs": [],
   "source": [
    "# Initiating dynamic programming matrices, S and trace\n",
    "def initiate_global_dp(m,n):\n",
    "    S = np.zeros((m,n))       # An m*n matrix, initiated with 0's\n",
    "    trace = np.zeros((m,n,2)) # An m*n matrix, initiated with (0,0)'s\n",
    "    S[0,0] = 0.\n",
    "    trace[0,0,:] = (0.,0.)\n",
    "    for i in range(1,m):\n",
    "        S[i,0] = i * gap_penalty()\n",
    "        trace[i,0,:] =(-1,0)\n",
    "    for j in range(1,n):\n",
    "        S[0,j] = j * gap_penalty()\n",
    "        trace[0,j,:] =(0,-1)\n",
    "    return S,trace"
   ]
  },
  {
   "cell_type": "markdown",
   "metadata": {},
   "source": [
    "Subsequently, the rest of $S$ is filled as:\n",
    "$$S_{ij}=\\max\\left\\{\n",
    "\\begin{array}{ll}\n",
    "S_{i-1,j-1} & +d(a_i,b_j)\\\\\n",
    "S_{i-1,j} & +d(a_i,-)\\\\\n",
    "S_{i,j-1} & +d(-,b_j)\n",
    "\\end{array}\n",
    "\\right.$$\n"
   ]
  },
  {
   "cell_type": "code",
   "execution_count": 4,
   "metadata": {},
   "outputs": [],
   "source": [
    "def global_align(seqA,seqB,print_dynamic_matrix = False):\n",
    "    # Initiating variables\n",
    "    m, n = len(seqA)+1, len(seqB)+1\n",
    "    S,trace = initiate_global_dp(m,n)\n",
    "    # Fill in the rest of the dynamic programming matrix\n",
    "    for i in range(1,m):\n",
    "        for j in range(1,n):\n",
    "            # Note the subtraction of 1 for the sequence position\n",
    "            # In python sequences are indexed from 0 to len-1\n",
    "            match = S[i-1,j-1] + match_score(seqA[i-1],seqB[j-1]) \n",
    "            delete = S[i-1,j] + match_score(seqA[i-1],'-') \n",
    "            insert = S[i,j-1] + match_score('-',seqB[j-1]) \n",
    "            S[i,j] = max(match,delete,insert)\n",
    "            if match >= max(insert,delete):\n",
    "                trace[i,j,:] = (-1,-1)\n",
    "            elif delete >= insert:\n",
    "                trace[i,j,:] = (-1,0)\n",
    "            else:\n",
    "                trace[i,j,:] = (0,-1)\n",
    "    if print_dynamic_matrix:\n",
    "        print_dynamic(seqA,seqB,S)\n",
    "    return format_alignment(seqA,seqB,S,trace)"
   ]
  },
  {
   "cell_type": "markdown",
   "metadata": {},
   "source": [
    "Now everything is set. We can try the code for any of our favorite sequences. One can toggle the printout of the dynamic programming matrix by a boolean flag as a third argument."
   ]
  },
  {
   "cell_type": "code",
   "execution_count": 5,
   "metadata": {},
   "outputs": [
    {
     "name": "stdout",
     "output_type": "stream",
     "text": [
      "       -    G    C    T    A    C  \n",
      "  -    0.0 -2.0 -4.0 -6.0 -8.0-10.0\n",
      "  G   -2.0  3.0  1.0 -1.0 -3.0 -5.0\n",
      "  A   -4.0  1.0  2.0  0.0  2.0  0.0\n",
      "  T   -6.0 -1.0  0.0  5.0  3.0  1.0\n",
      "  T   -8.0 -3.0 -2.0  3.0  4.0  2.0\n",
      "  A  -10.0 -5.0 -4.0  1.0  6.0  4.0\n",
      "\n",
      "Best score: 4.0\n",
      "GATTA-\n",
      "G-CTAC\n"
     ]
    }
   ],
   "source": [
    "seqA,seqB = global_align(\"GATTA\",\"GCTAC\",True)\n",
    "print_alignment(seqA,seqB)"
   ]
  },
  {
   "cell_type": "markdown",
   "metadata": {},
   "source": [
    "As promissed during lecture I add a couple of extra alignments, check them manually as an excercise before the exam."
   ]
  },
  {
   "cell_type": "code",
   "execution_count": 6,
   "metadata": {},
   "outputs": [
    {
     "name": "stdout",
     "output_type": "stream",
     "text": [
      "       -    G    C    A    T    T    A    C  \n",
      "  -    0.0 -2.0 -4.0 -6.0 -8.0-10.0-12.0-14.0\n",
      "  T   -2.0 -1.0 -3.0 -5.0 -3.0 -5.0 -7.0 -9.0\n",
      "  G   -4.0  1.0 -1.0 -3.0 -5.0 -4.0 -6.0 -8.0\n",
      "  C   -6.0 -1.0  4.0  2.0  0.0 -2.0 -4.0 -3.0\n",
      "  A   -8.0 -3.0  2.0  7.0  5.0  3.0  1.0 -1.0\n",
      "  T  -10.0 -5.0  0.0  5.0 10.0  8.0  6.0  4.0\n",
      "  T  -12.0 -7.0 -2.0  3.0  8.0 13.0 11.0  9.0\n",
      "  A  -14.0 -9.0 -4.0  1.0  6.0 11.0 16.0 14.0\n",
      "\n",
      "Best score: 14.0\n",
      "TGCATTA-\n",
      "-GCATTAC\n"
     ]
    }
   ],
   "source": [
    "seqA,seqB = global_align(\"TGCATTA\",\"GCATTAC\",True)\n",
    "print_alignment(seqA,seqB)"
   ]
  },
  {
   "cell_type": "code",
   "execution_count": 7,
   "metadata": {},
   "outputs": [
    {
     "name": "stdout",
     "output_type": "stream",
     "text": [
      "       -    C    T    A    C    G    C    T    A    T    T    T    C    A  \n",
      "  -    0.0 -2.0 -4.0 -6.0 -8.0-10.0-12.0-14.0-16.0-18.0-20.0-22.0-24.0-26.0\n",
      "  C   -2.0  3.0  1.0 -1.0 -3.0 -5.0 -7.0 -9.0-11.0-13.0-15.0-17.0-19.0-21.0\n",
      "  T   -4.0  1.0  6.0  4.0  2.0  0.0 -2.0 -4.0 -6.0 -8.0-10.0-12.0-14.0-16.0\n",
      "  A   -6.0 -1.0  4.0  9.0  7.0  5.0  3.0  1.0 -1.0 -3.0 -5.0 -7.0 -9.0-11.0\n",
      "  T   -8.0 -3.0  2.0  7.0  8.0  6.0  4.0  6.0  4.0  2.0  0.0 -2.0 -4.0 -6.0\n",
      "  C  -10.0 -5.0  0.0  5.0 10.0  8.0  9.0  7.0  5.0  3.0  1.0 -1.0  1.0 -1.0\n",
      "  T  -12.0 -7.0 -2.0  3.0  8.0  9.0  7.0 12.0 10.0  8.0  6.0  4.0  2.0  0.0\n",
      "  C  -14.0 -9.0 -4.0  1.0  6.0  7.0 12.0 10.0 11.0  9.0  7.0  5.0  7.0  5.0\n",
      "  G  -16.0-11.0 -6.0 -1.0  4.0  9.0 10.0 11.0  9.0 10.0  8.0  6.0  5.0  6.0\n",
      "  C  -18.0-13.0 -8.0 -3.0  2.0  7.0 12.0 10.0 10.0  8.0  9.0  7.0  9.0  7.0\n",
      "  T  -20.0-15.0-10.0 -5.0  0.0  5.0 10.0 15.0 13.0 13.0 11.0 12.0 10.0  8.0\n",
      "  A  -22.0-17.0-12.0 -7.0 -2.0  3.0  8.0 13.0 18.0 16.0 14.0 12.0 11.0 13.0\n",
      "  T  -24.0-19.0-14.0 -9.0 -4.0  1.0  6.0 11.0 16.0 21.0 19.0 17.0 15.0 13.0\n",
      "  C  -26.0-21.0-16.0-11.0 -6.0 -1.0  4.0  9.0 14.0 19.0 20.0 18.0 20.0 18.0\n",
      "  C  -28.0-23.0-18.0-13.0 -8.0 -3.0  2.0  7.0 12.0 17.0 18.0 19.0 21.0 19.0\n",
      "  A  -30.0-25.0-20.0-15.0-10.0 -5.0  0.0  5.0 10.0 15.0 16.0 17.0 19.0 24.0\n",
      "\n",
      "Best score: 24.0\n",
      "CTATCTCGCTA-TCCA\n",
      "CTA---CGCTATTTCA\n"
     ]
    }
   ],
   "source": [
    "seqA,seqB = global_align(\"CTATCTCGCTATCCA\",\"CTACGCTATTTCA\",True)\n",
    "print_alignment(seqA,seqB)"
   ]
  },
  {
   "cell_type": "markdown",
   "metadata": {
    "collapsed": true
   },
   "source": [
    "## Local alignments using Smith-Waterman\n",
    "\n",
    "Smith-Waterman alignments are similar to the ones of Needleman-Wunsch. The difference sits in the initiation of the dynamic programming matrix, and how we trace the most optimal alignment. We will implement these difference by redifining some functions.\n",
    "\n",
    "First the initiation of the dynamic programming matrix $S$:\n",
    "$$S_{i0}=0, \\forall i,$$\n",
    "$$S_{0j}=0, \\forall j$$\n"
   ]
  },
  {
   "cell_type": "code",
   "execution_count": 8,
   "metadata": {},
   "outputs": [],
   "source": [
    "def format_local_alignment(seqA,seqB,S,trace):\n",
    "    outA,outB = \"\",\"\"\n",
    "    i,j = np.unravel_index(S.argmax(),S.shape)\n",
    "    print(\"Best score: \" + str(S[i,j]))\n",
    "    while min(trace[i,j])<0:\n",
    "        di,dj = trace[i,j]\n",
    "        i += int(di)\n",
    "        j += int(dj)\n",
    "        if di == 0:\n",
    "            outA = \"-\" + outA\n",
    "        else:\n",
    "            outA = seqA[i] + outA\n",
    "        if dj == 0:\n",
    "            outB = \"-\" + outB\n",
    "        else:\n",
    "            outB = seqB[j] + outB\n",
    "    return outA,outB\n"
   ]
  },
  {
   "cell_type": "code",
   "execution_count": 9,
   "metadata": {},
   "outputs": [],
   "source": [
    "# Initiating dynamic programming matrices, S and trace\n",
    "def initiate_local_dp(m,n):\n",
    "    S = np.zeros((m,n))\n",
    "    trace = np.zeros((m,n,2))\n",
    "    S[0,0] = 0.\n",
    "    trace[0,0,:] = (0.,0.)\n",
    "    for i in range(1,m):\n",
    "        S[i,0] = 0\n",
    "        trace[i,0,:] =(0,0)\n",
    "    for j in range(1,n):\n",
    "        S[0,j] = 0\n",
    "        trace[0,j,:] =(0,0)\n",
    "    return S,trace"
   ]
  },
  {
   "cell_type": "markdown",
   "metadata": {},
   "source": [
    "Subsequently, the rest of $S$ is filled as:\n",
    "$$S_{ij}=\\max\\left\\{\n",
    "\\begin{array}{ll}\n",
    "S_{i-1,j-1} & +d(a_i,b_j)\\\\\n",
    "S_{i-1,j} & +d(a_i,-)\\\\\n",
    "S_{i,j-1} & +d(-,b_j)\\\\\n",
    "0\n",
    "\\end{array}\n",
    "\\right.$$\n"
   ]
  },
  {
   "cell_type": "code",
   "execution_count": 10,
   "metadata": {},
   "outputs": [],
   "source": [
    "def local_align(seqA,seqB,print_dynamic_matrix = False):\n",
    "    # Initiating variables\n",
    "    m, n = len(seqA)+1, len(seqB)+1\n",
    "    S,trace = initiate_local_dp(m,n)\n",
    "    # Fill in the rest of the dynamic programming matrix\n",
    "    for i in range(1,m):\n",
    "        for j in range(1,n):\n",
    "            match = S[i-1][j-1] + match_score(seqA[i-1],seqB[j-1])\n",
    "            delete = S[i-1,j] + match_score(seqA[i-1],'-') \n",
    "            insert = S[i,j-1] + match_score('-',seqB[j-1]) \n",
    "            S[i,j] = max(match, delete, insert, 0.)\n",
    "            if match >= max(delete,insert,0.):\n",
    "                trace[i,j,:] = (-1,-1.)\n",
    "            elif delete >= max(insert,0.):\n",
    "                trace[i,j,:] = (-1.,0.)\n",
    "            elif insert >= 0.:\n",
    "                trace[i,j,:] = (0.,-1.)\n",
    "            else:\n",
    "                trace[i,j,:] = (0.,0.)\n",
    "    if print_dynamic_matrix:\n",
    "        print_dynamic(seqA,seqB,S)\n",
    "    return format_local_alignment(seqA,seqB,S,trace)"
   ]
  },
  {
   "cell_type": "code",
   "execution_count": 11,
   "metadata": {},
   "outputs": [
    {
     "name": "stdout",
     "output_type": "stream",
     "text": [
      "       -    G    C    T    A    C  \n",
      "  -    0.0  0.0  0.0  0.0  0.0  0.0\n",
      "  G    0.0  3.0  1.0  0.0  0.0  0.0\n",
      "  A    0.0  1.0  2.0  0.0  3.0  1.0\n",
      "  T    0.0  0.0  0.0  5.0  3.0  2.0\n",
      "  T    0.0  0.0  0.0  3.0  4.0  2.0\n",
      "  A    0.0  0.0  0.0  1.0  6.0  4.0\n",
      "\n",
      "Best score: 6.0\n",
      "GATTA\n",
      "G-CTA\n"
     ]
    }
   ],
   "source": [
    "seqA,seqB = local_align(\"GATTA\",\"GCTAC\",True)\n",
    "print_alignment(seqA,seqB)"
   ]
  },
  {
   "cell_type": "code",
   "execution_count": 12,
   "metadata": {},
   "outputs": [
    {
     "name": "stdout",
     "output_type": "stream",
     "text": [
      "       -    G    C    T    T    A    C  \n",
      "  -    0.0  0.0  0.0  0.0  0.0  0.0  0.0\n",
      "  G    0.0  3.0  1.0  0.0  0.0  0.0  0.0\n",
      "  C    0.0  1.0  6.0  4.0  2.0  0.0  3.0\n",
      "  G    0.0  3.0  4.0  5.0  3.0  1.0  1.0\n",
      "  A    0.0  1.0  2.0  3.0  4.0  6.0  4.0\n",
      "  T    0.0  0.0  0.0  5.0  6.0  4.0  5.0\n",
      "  T    0.0  0.0  0.0  3.0  8.0  6.0  4.0\n",
      "  A    0.0  0.0  0.0  1.0  6.0 11.0  9.0\n",
      "\n",
      "Best score: 11.0\n",
      "GATTA\n",
      "GCTTA\n"
     ]
    }
   ],
   "source": [
    "seqA,seqB = local_align(\"GCGATTA\",\"GCTTAC\",True)\n",
    "print_alignment(seqA,seqB)"
   ]
  },
  {
   "cell_type": "code",
   "execution_count": 13,
   "metadata": {},
   "outputs": [
    {
     "name": "stdout",
     "output_type": "stream",
     "text": [
      "       -    C    T    A    C    G    C    T    A    T    T    T    C    A  \n",
      "  -    0.0  0.0  0.0  0.0  0.0  0.0  0.0  0.0  0.0  0.0  0.0  0.0  0.0  0.0\n",
      "  C    0.0  3.0  1.0  0.0  3.0  1.0  3.0  1.0  0.0  0.0  0.0  0.0  3.0  1.0\n",
      "  T    0.0  1.0  6.0  4.0  2.0  2.0  1.0  6.0  4.0  3.0  3.0  3.0  1.0  2.0\n",
      "  A    0.0  0.0  4.0  9.0  7.0  5.0  3.0  4.0  9.0  7.0  5.0  3.0  2.0  4.0\n",
      "  T    0.0  0.0  3.0  7.0  8.0  6.0  4.0  6.0  7.0 12.0 10.0  8.0  6.0  4.0\n",
      "  C    0.0  3.0  1.0  5.0 10.0  8.0  9.0  7.0  5.0 10.0 11.0  9.0 11.0  9.0\n",
      "  T    0.0  1.0  6.0  4.0  8.0  9.0  7.0 12.0 10.0  8.0 13.0 14.0 12.0 10.0\n",
      "  C    0.0  3.0  4.0  5.0  7.0  7.0 12.0 10.0 11.0  9.0 11.0 12.0 17.0 15.0\n",
      "  G    0.0  1.0  2.0  3.0  5.0 10.0 10.0 11.0  9.0 10.0  9.0 10.0 15.0 16.0\n",
      "  C    0.0  3.0  1.0  1.0  6.0  8.0 13.0 11.0 10.0  8.0  9.0  8.0 13.0 14.0\n",
      "  T    0.0  1.0  6.0  4.0  4.0  6.0 11.0 16.0 14.0 13.0 11.0 12.0 11.0 12.0\n",
      "  A    0.0  0.0  4.0  9.0  7.0  5.0  9.0 14.0 19.0 17.0 15.0 13.0 11.0 14.0\n",
      "  T    0.0  0.0  3.0  7.0  8.0  6.0  7.0 12.0 17.0 22.0 20.0 18.0 16.0 14.0\n",
      "  C    0.0  3.0  1.0  5.0 10.0  8.0  9.0 10.0 15.0 20.0 21.0 19.0 21.0 19.0\n",
      "  C    0.0  3.0  2.0  3.0  8.0  9.0 11.0  9.0 13.0 18.0 19.0 20.0 22.0 20.0\n",
      "  A    0.0  1.0  2.0  5.0  6.0  7.0  9.0 10.0 12.0 16.0 17.0 18.0 20.0 25.0\n",
      "\n",
      "Best score: 25.0\n",
      "CT-CGCTA-TCCA\n",
      "CTACGCTATTTCA\n"
     ]
    }
   ],
   "source": [
    "seqA,seqB = local_align(\"CTATCTCGCTATCCA\",\"CTACGCTATTTCA\",True)\n",
    "print_alignment(seqA,seqB)"
   ]
  },
  {
   "cell_type": "markdown",
   "metadata": {},
   "source": [
    "## Semi-global alignments\n",
    "\n",
    "Yet another type of alignments are the semi-global alignments. Here we will able to reuse the code for the global score, but we will initiate the dynamic programming matrix as for the local alignment. We also need to redefine how to read the alignment. "
   ]
  },
  {
   "cell_type": "code",
   "execution_count": 14,
   "metadata": {},
   "outputs": [],
   "source": [
    "def format_semiglobal_alignment(seqA,seqB,S,trace):\n",
    "    outA,outB = \"\",\"\"\n",
    "    m,n = S.shape[0]-1, S.shape[1]-1\n",
    "    i,j = S[:,n].argmax(), S[m,:].argmax()\n",
    "    if S[i,n] > S[m,j]:\n",
    "        print(\"Best score: \" + str(S[i,n]))\n",
    "        j = n\n",
    "        # point the alignmnént from (m,n) to here\n",
    "        for ix in range(i+1,m+1):\n",
    "            print(ix,n)\n",
    "            trace[ix,n,:] = (-1,0)\n",
    "    else:\n",
    "        print(\"Best score: \" + str(S[m,j]))\n",
    "        i = m    \n",
    "        # point the alignmnént from (m,n) to here\n",
    "        for ix in range(j+1,n+1):\n",
    "            print(m,ix)\n",
    "            trace[m,ix,:] = (0,-1)\n",
    "    i,j = m,n\n",
    "    while min(trace[i,j])<0:\n",
    "        di,dj = trace[i,j]\n",
    "        i += int(di)\n",
    "        j += int(dj)\n",
    "        if di == 0:\n",
    "            outA = \"-\" + outA\n",
    "        else:\n",
    "            outA = seqA[i] + outA\n",
    "        if dj == 0:\n",
    "            outB = \"-\" + outB\n",
    "        else:\n",
    "            outB = seqB[j] + outB\n",
    "    return outA,outB\n"
   ]
  },
  {
   "cell_type": "code",
   "execution_count": 15,
   "metadata": {},
   "outputs": [],
   "source": [
    "# Initiating dynamic programming matrices, S and trace\n",
    "def initiate_semiglobal_dp(m,n):\n",
    "    S = np.zeros((m,n))\n",
    "    trace = np.zeros((m,n,2))\n",
    "    S[0,0] = 0.\n",
    "    trace[0,0,:] = (0.,0.)\n",
    "    for i in range(1,m):\n",
    "        S[i,0] = 0\n",
    "        trace[i,0,:] =(-1,0)\n",
    "    for j in range(1,n):\n",
    "        S[0,j] = 0\n",
    "        trace[0,j,:] =(0,-1)\n",
    "    return S,trace"
   ]
  },
  {
   "cell_type": "code",
   "execution_count": 16,
   "metadata": {},
   "outputs": [],
   "source": [
    "def semiglobal_align(seqA,seqB,print_dynamic_matrix = False):\n",
    "    # Initiating variables\n",
    "    m, n = len(seqA)+1, len(seqB)+1\n",
    "    S,trace = initiate_semiglobal_dp(m,n)\n",
    "    # Fill in the rest of the dynamic programming matrix\n",
    "    for i in range(1,m):\n",
    "        for j in range(1,n):\n",
    "            match = S[i-1][j-1] + match_score(seqA[i-1],seqB[j-1])\n",
    "            delete = S[i-1,j] + match_score(seqA[i-1],'-') \n",
    "            insert = S[i,j-1] + match_score('-',seqB[j-1]) \n",
    "            S[i,j] = max(match, delete, insert)\n",
    "            if match >= max(delete,insert):\n",
    "                trace[i,j,:] = (-1,-1.)\n",
    "            elif delete >= insert:\n",
    "                trace[i,j,:] = (-1.,0.)\n",
    "            else:\n",
    "                trace[i,j,:] = (0.,-1.)\n",
    "    if print_dynamic_matrix:\n",
    "        print_dynamic(seqA,seqB,S)\n",
    "    return format_semiglobal_alignment(seqA,seqB,S,trace)"
   ]
  },
  {
   "cell_type": "code",
   "execution_count": 17,
   "metadata": {},
   "outputs": [
    {
     "name": "stdout",
     "output_type": "stream",
     "text": [
      "       -    C    T    A    C    G    C    T    A    T    T    T    C    A  \n",
      "  -    0.0  0.0  0.0  0.0  0.0  0.0  0.0  0.0  0.0  0.0  0.0  0.0  0.0  0.0\n",
      "  C    0.0  3.0  1.0 -1.0  3.0  1.0  3.0  1.0 -1.0 -1.0 -1.0 -1.0  3.0  1.0\n",
      "  T    0.0  1.0  6.0  4.0  2.0  2.0  1.0  6.0  4.0  2.0  2.0  2.0  1.0  2.0\n",
      "  A    0.0 -1.0  4.0  9.0  7.0  5.0  3.0  4.0  9.0  7.0  5.0  3.0  1.0  4.0\n",
      "  T    0.0 -1.0  2.0  7.0  8.0  6.0  4.0  6.0  7.0 12.0 10.0  8.0  6.0  4.0\n",
      "  C    0.0  3.0  1.0  5.0 10.0  8.0  9.0  7.0  5.0 10.0 11.0  9.0 11.0  9.0\n",
      "  T    0.0  1.0  6.0  4.0  8.0  9.0  7.0 12.0 10.0  8.0 13.0 14.0 12.0 10.0\n",
      "  A    0.0 -1.0  4.0  9.0  7.0  7.0  8.0 10.0 15.0 13.0 11.0 12.0 13.0 15.0\n",
      "  T    0.0 -1.0  2.0  7.0  8.0  6.0  6.0 11.0 13.0 18.0 16.0 14.0 12.0 13.0\n",
      "  C    0.0  3.0  1.0  5.0 10.0  8.0  9.0  9.0 11.0 16.0 17.0 15.0 17.0 15.0\n",
      "  T    0.0  1.0  6.0  4.0  8.0  9.0  7.0 12.0 10.0 14.0 19.0 20.0 18.0 16.0\n",
      "  C    0.0  3.0  4.0  5.0  7.0  7.0 12.0 10.0 11.0 12.0 17.0 18.0 23.0 21.0\n",
      "  G    0.0  1.0  2.0  3.0  5.0 10.0 10.0 11.0  9.0 10.0 15.0 16.0 21.0 22.0\n",
      "  C    0.0  3.0  1.0  1.0  6.0  8.0 13.0 11.0 10.0  8.0 13.0 14.0 19.0 20.0\n",
      "  T    0.0  1.0  6.0  4.0  4.0  6.0 11.0 16.0 14.0 13.0 11.0 16.0 17.0 18.0\n",
      "  A    0.0 -1.0  4.0  9.0  7.0  5.0  9.0 14.0 19.0 17.0 15.0 14.0 15.0 20.0\n",
      "  T    0.0 -1.0  2.0  7.0  8.0  6.0  7.0 12.0 17.0 22.0 20.0 18.0 16.0 18.0\n",
      "  C    0.0  3.0  1.0  5.0 10.0  8.0  9.0 10.0 15.0 20.0 21.0 19.0 21.0 19.0\n",
      "  C    0.0  3.0  2.0  3.0  8.0  9.0 11.0  9.0 13.0 18.0 19.0 20.0 22.0 20.0\n",
      "  A    0.0  1.0  2.0  5.0  6.0  7.0  9.0 10.0 12.0 16.0 17.0 18.0 20.0 25.0\n",
      "  A    0.0 -1.0  0.0  5.0  4.0  5.0  7.0  8.0 13.0 14.0 15.0 16.0 18.0 23.0\n",
      "\n",
      "Best score: 25.0\n",
      "20 13\n",
      "CTATCTATCT-CGCTA-TCCAA\n",
      "--------CTACGCTATTTCA-\n"
     ]
    }
   ],
   "source": [
    "seqA,seqB = semiglobal_align(\"CTATCTATCTCGCTATCCAA\",\"CTACGCTATTTCA\",True)\n",
    "print_alignment(seqA,seqB)"
   ]
  },
  {
   "cell_type": "markdown",
   "metadata": {},
   "source": [
    "## Protein sequences\n",
    "\n",
    "We can use the exact same alignment methods for protein sequences, as long as we define an apropriate scoring function. Here we will use a PAM250 matrix for the matches, and a gap penalty of 10. "
   ]
  },
  {
   "cell_type": "code",
   "execution_count": 18,
   "metadata": {},
   "outputs": [],
   "source": [
    "PAM250 = {\n",
    "'A': {'A': 2,  'C': -2, 'D':  0, 'E': 0, 'F': -3, 'G':  1, 'H': -1, 'I': -1, 'K': -1, 'L': -2, 'M': -1, 'N':  0, 'P':  1, 'Q':  0, 'R': -2, 'S':  1, 'T':  1, 'V':  0, 'W': -6, 'Y': -3},\n",
    "'C': {'A': -2, 'C': 12, 'D': -5, 'E':-5, 'F': -4, 'G': -3, 'H': -3, 'I': -2, 'K': -5, 'L': -6, 'M': -5, 'N': -4, 'P': -3, 'Q': -5, 'R': -4, 'S':  0, 'T': -2, 'V': -2, 'W': -8, 'Y':  0},\n",
    "'D': {'A': 0,  'C': -5, 'D':  4, 'E': 3, 'F': -6, 'G':  1, 'H':  1, 'I': -2, 'K':  0, 'L': -4, 'M': -3, 'N':  2, 'P': -1, 'Q':  2, 'R': -1, 'S':  0, 'T':  0, 'V': -2, 'W': -7, 'Y': -4},\n",
    "'E': {'A': 0,  'C': -5, 'D':  3, 'E': 4, 'F': -5, 'G':  0, 'H':  1, 'I': -2, 'K':  0, 'L': -3, 'M': -2, 'N':  1, 'P': -1, 'Q':  2, 'R': -1, 'S':  0, 'T':  0, 'V': -2, 'W': -7, 'Y': -4},\n",
    "'F': {'A': -3, 'C': -4, 'D': -6, 'E':-5, 'F':  9, 'G': -5, 'H': -2, 'I':  1, 'K': -5, 'L':  2, 'M':  0, 'N': -3, 'P': -5, 'Q': -5, 'R': -4, 'S': -3, 'T': -3, 'V': -1, 'W':  0, 'Y':  7},\n",
    "'G': {'A': 1,  'C': -3, 'D':  1, 'E': 0, 'F': -5, 'G':  5, 'H': -2, 'I': -3, 'K': -2, 'L': -4, 'M': -3, 'N':  0, 'P':  0, 'Q': -1, 'R': -3, 'S':  1, 'T':  0, 'V': -1, 'W': -7, 'Y': -5},\n",
    "'H': {'A': -1, 'C': -3, 'D':  1, 'E': 1, 'F': -2, 'G': -2, 'H':  6, 'I': -2, 'K':  0, 'L': -2, 'M': -2, 'N':  2, 'P':  0, 'Q':  3, 'R':  2, 'S': -1, 'T': -1, 'V': -2, 'W': -3, 'Y':  0},\n",
    "'I': {'A': -1, 'C': -2, 'D': -2, 'E':-2, 'F':  1, 'G': -3, 'H': -2, 'I':  5, 'K': -2, 'L':  2, 'M':  2, 'N': -2, 'P': -2, 'Q': -2, 'R': -2, 'S': -1, 'T':  0, 'V':  4, 'W': -5, 'Y': -1},\n",
    "'K': {'A': -1, 'C': -5, 'D':  0, 'E': 0, 'F': -5, 'G': -2, 'H':  0, 'I': -2, 'K':  5, 'L': -3, 'M':  0, 'N':  1, 'P': -1, 'Q':  1, 'R':  3, 'S':  0, 'T':  0, 'V': -2, 'W': -3, 'Y': -4},\n",
    "'L': {'A': -2, 'C': -6, 'D': -4, 'E':-3, 'F':  2, 'G': -4, 'H': -2, 'I':  2, 'K': -3, 'L':  6, 'M':  4, 'N': -3, 'P': -3, 'Q': -2, 'R': -3, 'S': -3, 'T': -2, 'V':  2, 'W': -2, 'Y': -1},\n",
    "'M': {'A': -1, 'C': -5, 'D': -3, 'E':-2, 'F':  0, 'G': -3, 'H': -2, 'I':  2, 'K':  0, 'L':  4, 'M':  6, 'N': -2, 'P': -2, 'Q': -1, 'R':  0, 'S': -2, 'T': -1, 'V':  2, 'W': -4, 'Y': -2},\n",
    "'N': {'A': 0,  'C': -4, 'D':  2, 'E': 1, 'F': -3, 'G':  0, 'H':  2, 'I': -2, 'K':  1, 'L': -3, 'M': -2, 'N':  2, 'P':  0, 'Q':  1, 'R':  0, 'S':  1, 'T':  0, 'V': -2, 'W': -4, 'Y': -2},\n",
    "'P': {'A': 1,  'C': -3, 'D': -1, 'E':-1, 'F': -5, 'G':  0, 'H':  0, 'I': -2, 'K': -1, 'L': -3, 'M': -2, 'N':  0, 'P':  6, 'Q':  0, 'R':  0, 'S':  1, 'T':  0, 'V': -1, 'W': -6, 'Y': -5},\n",
    "'Q': {'A': 0,  'C': -5, 'D':  2, 'E': 2, 'F': -5, 'G': -1, 'H':  3, 'I': -2, 'K':  1, 'L': -2, 'M': -1, 'N':  1, 'P':  0, 'Q':  4, 'R':  1, 'S': -1, 'T': -1, 'V': -2, 'W': -5, 'Y': -4},\n",
    "'R': {'A': -2, 'C': -4, 'D': -1, 'E':-1, 'F': -4, 'G': -3, 'H':  2, 'I': -2, 'K':  3, 'L': -3, 'M':  0, 'N':  0, 'P':  0, 'Q':  1, 'R':  6, 'S':  0, 'T': -1, 'V': -2, 'W':  2, 'Y': -4},\n",
    "'S': {'A': 1,  'C':  0, 'D':  0, 'E': 0, 'F': -3, 'G':  1, 'H': -1, 'I': -1, 'K':  0, 'L': -3, 'M': -2, 'N':  1, 'P':  1, 'Q': -1, 'R':  0, 'S':  2, 'T':  1, 'V': -1, 'W': -2, 'Y': -3},\n",
    "'T': {'A': 1,  'C': -2, 'D':  0, 'E': 0, 'F': -3, 'G':  0, 'H': -1, 'I':  0, 'K':  0, 'L': -2, 'M': -1, 'N':  0, 'P':  0, 'Q': -1, 'R': -1, 'S':  1, 'T':  3, 'V':  0, 'W': -5, 'Y': -3},\n",
    "'V': {'A': 0,  'C': -2, 'D': -2, 'E':-2, 'F': -1, 'G': -1, 'H': -2, 'I':  4, 'K': -2, 'L':  2, 'M':  2, 'N': -2, 'P': -1, 'Q': -2, 'R': -2, 'S': -1, 'T':  0, 'V':  4, 'W': -6, 'Y': -2},\n",
    "'W': {'A': -6, 'C': -8, 'D': -7, 'E':-7, 'F':  0, 'G': -7, 'H': -3, 'I': -5, 'K': -3, 'L': -2, 'M': -4, 'N': -4, 'P': -6, 'Q': -5, 'R':  2, 'S': -2, 'T': -5, 'V': -6, 'W': 17, 'Y':  0},\n",
    "'Y': {'A': -3, 'C':  0, 'D': -4, 'E':-4, 'F':  7, 'G': -5, 'H':  0, 'I': -1, 'K': -4, 'L': -1, 'M': -2, 'N': -2, 'P': -5, 'Q': -4, 'R': -4, 'S': -3, 'T': -3, 'V': -2, 'W':  0, 'Y': 10}}\n",
    "\n",
    "def gap_penalty():\n",
    "    return -10.0\n",
    "\n",
    "def match_score(letterA,letterB):\n",
    "    if letterA == '-' or letterB == '-':\n",
    "        return gap_penalty()\n",
    "    else:\n",
    "        return PAM250[letterA][letterB]\n"
   ]
  },
  {
   "cell_type": "code",
   "execution_count": 19,
   "metadata": {},
   "outputs": [
    {
     "name": "stdout",
     "output_type": "stream",
     "text": [
      "       -    I    A    M    P    E    P    P    E    D  \n",
      "  -    0.0-10.0-20.0-30.0-40.0-50.0-60.0-70.0-80.0-90.0\n",
      "  I  -10.0  5.0 -5.0-15.0-25.0-35.0-45.0-55.0-65.0-75.0\n",
      "  A  -20.0 -5.0  7.0 -3.0-13.0-23.0-33.0-43.0-53.0-63.0\n",
      "  M  -30.0-15.0 -3.0 13.0  3.0 -7.0-17.0-27.0-37.0-47.0\n",
      "  A  -40.0-25.0-13.0  3.0 14.0  4.0 -6.0-16.0-26.0-36.0\n",
      "  P  -50.0-35.0-23.0 -7.0  9.0 13.0 10.0  0.0-10.0-20.0\n",
      "  E  -60.0-45.0-33.0-17.0 -1.0 13.0 12.0  9.0  4.0 -6.0\n",
      "  P  -70.0-55.0-43.0-27.0-11.0  3.0 19.0 18.0  8.0  3.0\n",
      "  T  -80.0-65.0-53.0-37.0-21.0 -7.0  9.0 19.0 18.0  8.0\n",
      "  I  -90.0-75.0-63.0-47.0-31.0-17.0 -1.0  9.0 17.0 16.0\n",
      "  D  -100.0-85.0-73.0-57.0-41.0-27.0-11.0 -1.0 12.0 21.0\n",
      "  E  -110.0-95.0-83.0-67.0-51.0-37.0-21.0-11.0  3.0 15.0\n",
      "\n",
      "Best score: 15.0\n",
      "IAMAPEPTIDE\n",
      "IAM-PEPP-ED\n"
     ]
    }
   ],
   "source": [
    "seqA,seqB = global_align(\"IAMAPEPTIDE\",\"IAMPEPPED\",True)\n",
    "print_alignment(seqA,seqB)"
   ]
  },
  {
   "cell_type": "code",
   "execution_count": 20,
   "metadata": {},
   "outputs": [
    {
     "name": "stdout",
     "output_type": "stream",
     "text": [
      "Best score: 3.0\n",
      "MYPERFECTDAY\n",
      "T-HER-ESAMAY\n"
     ]
    }
   ],
   "source": [
    "seqA,seqB = global_align(\"MYPERFECTDAY\",\"THERESAMAY\",False)\n",
    "print_alignment(seqA,seqB)"
   ]
  },
  {
   "cell_type": "code",
   "execution_count": 21,
   "metadata": {},
   "outputs": [
    {
     "name": "stdout",
     "output_type": "stream",
     "text": [
      "Best score: 14.0\n",
      "PERFECTDAY\n",
      "HER-ESAMAY\n"
     ]
    }
   ],
   "source": [
    "seqA,seqB = local_align(\"MYPERFECTDAY\",\"THERESAMAY\",False)\n",
    "print_alignment(seqA,seqB)"
   ]
  }
 ],
 "metadata": {
  "kernelspec": {
   "display_name": "Python 3",
   "language": "python",
   "name": "python3"
  },
  "language_info": {
   "codemirror_mode": {
    "name": "ipython",
    "version": 3
   },
   "file_extension": ".py",
   "mimetype": "text/x-python",
   "name": "python",
   "nbconvert_exporter": "python",
   "pygments_lexer": "ipython3",
   "version": "3.8.5"
  }
 },
 "nbformat": 4,
 "nbformat_minor": 2
}
